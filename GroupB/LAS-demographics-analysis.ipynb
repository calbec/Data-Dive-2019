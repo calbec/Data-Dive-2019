{
 "cells": [
  {
   "cell_type": "code",
   "execution_count": null,
   "metadata": {},
   "outputs": [],
   "source": [
    "import pandas as pd\n",
    "import geopandas as gpd\n",
    "import matplotlib.pyplot as plt\n",
    "from scipy.stats import chi2_contingency\n",
    "from datetime import datetime"
   ]
  },
  {
   "cell_type": "code",
   "execution_count": null,
   "metadata": {},
   "outputs": [],
   "source": [
    "jan_feb_responses = pd.read_csv(\"data/Responses/responsesP1(Jan-Feb).csv\")\n",
    "mar_apr_responses = pd.read_csv(\"data/Responses/responsesP2(Mar-Apr).csv\")\n",
    "may_jun_responses = pd.read_csv(\"data/Responses/responsesP3(May-Jun).csv\")\n",
    "jul_aug_responses = pd.read_csv(\"data/Responses/responsesP4(Jul-Aug).csv\")\n",
    "sep_oct_responses = pd.read_csv(\"data/Responses/responsesP5(Sep-Oct).csv\")\n",
    "nov_dec_responses = pd.read_csv(\"data/Responses/responsesP6(Nov-Dec).csv\")"
   ]
  },
  {
   "cell_type": "markdown",
   "metadata": {},
   "source": [
    "Split responses into 111 calls vs non all other calls"
   ]
  },
  {
   "cell_type": "code",
   "execution_count": null,
   "metadata": {},
   "outputs": [],
   "source": [
    "jan_feb_responses_111 = jan_feb_responses[jan_feb_responses['chiefcomplaintcode'] == 111]\n",
    "mar_apr_responses_111 = mar_apr_responses[mar_apr_responses['chiefcomplaintcode'] == 111]\n",
    "may_jun_responses_111 = may_jun_responses[may_jun_responses['chiefcomplaintcode'] == 111]\n",
    "jul_aug_responses_111 = jul_aug_responses[jul_aug_responses['chiefcomplaintcode'] == 111]\n",
    "sep_oct_responses_111 = sep_oct_responses[sep_oct_responses['chiefcomplaintcode'] == 111]\n",
    "nov_dec_responses_111 = nov_dec_responses[nov_dec_responses['chiefcomplaintcode'] == 111]\n",
    "\n",
    "jan_feb_responses_not_111 = jan_feb_responses[jan_feb_responses['chiefcomplaintcode'] != 111]\n",
    "mar_apr_responses_not_111 = mar_apr_responses[mar_apr_responses['chiefcomplaintcode'] != 111]\n",
    "may_jun_responses_not_111 = may_jun_responses[may_jun_responses['chiefcomplaintcode'] != 111]\n",
    "jul_aug_responses_not_111 = jul_aug_responses[jul_aug_responses['chiefcomplaintcode'] != 111]\n",
    "sep_oct_responses_not_111 = sep_oct_responses[sep_oct_responses['chiefcomplaintcode'] != 111]\n",
    "nov_dec_responses_not_111 = nov_dec_responses[nov_dec_responses['chiefcomplaintcode'] != 111]"
   ]
  },
  {
   "cell_type": "markdown",
   "metadata": {},
   "source": [
    "Put all responses for the year into one dataframe"
   ]
  },
  {
   "cell_type": "code",
   "execution_count": null,
   "metadata": {},
   "outputs": [],
   "source": [
    "all_responses_111 = jan_feb_responses_111.append([mar_apr_responses_111,may_jun_responses_111,jul_aug_responses_111,sep_oct_responses_111,nov_dec_responses_111])\n",
    "all_responses_not_111 = jan_feb_responses_not_111.append([mar_apr_responses_not_111,may_jun_responses_not_111,jul_aug_responses_not_111,sep_oct_responses_not_111,nov_dec_responses_not_111])"
   ]
  },
  {
   "cell_type": "code",
   "execution_count": null,
   "metadata": {},
   "outputs": [],
   "source": [
    "all_responses_111.shape"
   ]
  },
  {
   "cell_type": "code",
   "execution_count": null,
   "metadata": {},
   "outputs": [],
   "source": [
    "# clean repeated dates by restricting the dates\n",
    "all_responses_111 = all_responses_111[(all_responses_111['callstart'] > '2017-12-31') & (all_responses_111['callstart'] < '2019-01-01')]\n",
    "all_responses_not_111 = all_responses_not_111[(all_responses_not_111['callstart'] > '2017-12-31') & (all_responses_not_111['callstart'] < '2019-01-01')]"
   ]
  },
  {
   "cell_type": "code",
   "execution_count": null,
   "metadata": {},
   "outputs": [],
   "source": [
    "all_responses_111.shape"
   ]
  },
  {
   "cell_type": "markdown",
   "metadata": {},
   "source": [
    "------"
   ]
  },
  {
   "cell_type": "markdown",
   "metadata": {},
   "source": [
    "## Group 111 calls by LSOA and time of day during working days\n",
    "Outputs one file per hour of the day with the count of 111 calls in each LSOA"
   ]
  },
  {
   "cell_type": "code",
   "execution_count": null,
   "metadata": {},
   "outputs": [],
   "source": [
    "all_responses_111['callstart'] = pd.to_datetime(all_responses_111['callstart'])\n",
    "all_responses_111['day_of_week'] = all_responses_111['callstart'].dt.day_name()"
   ]
  },
  {
   "cell_type": "code",
   "execution_count": null,
   "metadata": {},
   "outputs": [],
   "source": [
    "# keep responses that happened on week days\n",
    "all_responses_111_weekdays = all_responses_111[(all_responses_111['day_of_week'] != 'Sunday') & (all_responses_111['day_of_week'] != 'Saturday')]"
   ]
  },
  {
   "cell_type": "code",
   "execution_count": null,
   "metadata": {},
   "outputs": [],
   "source": [
    "all_responses_111_weekdays.shape"
   ]
  },
  {
   "cell_type": "code",
   "execution_count": null,
   "metadata": {},
   "outputs": [],
   "source": [
    "all_responses_111_weekdays['time_of_day'] = all_responses_111_weekdays['callstart'].dt.hour"
   ]
  },
  {
   "cell_type": "code",
   "execution_count": null,
   "metadata": {},
   "outputs": [],
   "source": [
    "for i in range(0, 24):\n",
    "    file_name = \"outputs/num_responses_111_per_lsoa_time_\" + str(i) + \".csv\"\n",
    "    num_responses_111_per_lsoa_time_i = all_responses_111_weekdays[all_responses_111_weekdays['time_of_day'] == i].groupby('lsoa').count()[['incidentid']].reset_index()\n",
    "    num_responses_111_per_lsoa_time_i.to_csv(file_name)"
   ]
  },
  {
   "cell_type": "markdown",
   "metadata": {},
   "source": [
    "-----------"
   ]
  },
  {
   "cell_type": "markdown",
   "metadata": {},
   "source": [
    "## Compare 111 calls to non-111 calls\n",
    "Are there any noticeable patterns? Could we say that 111 calls are used more by locals? Is there a difference in 111 usage between females/males and different age groups?"
   ]
  },
  {
   "cell_type": "code",
   "execution_count": null,
   "metadata": {},
   "outputs": [],
   "source": [
    "all_responses_111.shape"
   ]
  },
  {
   "cell_type": "code",
   "execution_count": null,
   "metadata": {},
   "outputs": [],
   "source": [
    "all_responses_not_111.shape"
   ]
  },
  {
   "cell_type": "markdown",
   "metadata": {},
   "source": [
    "### Borough"
   ]
  },
  {
   "cell_type": "code",
   "execution_count": null,
   "metadata": {},
   "outputs": [],
   "source": [
    "num_responses_111_per_borough = all_responses_111.groupby('borough').count()[['incidentid']].rename(columns={'incidentid':'num_111_responses'})\n",
    "num_responses_not_111_per_borough = all_responses_not_111.groupby('borough').count()[['incidentid']].rename(columns={'incidentid':'num_not_111_responses'})"
   ]
  },
  {
   "cell_type": "code",
   "execution_count": null,
   "metadata": {},
   "outputs": [],
   "source": [
    "borough_111_vs_not_111 = pd.concat([num_responses_111_per_borough,num_responses_not_111_per_borough], axis=1)"
   ]
  },
  {
   "cell_type": "code",
   "execution_count": null,
   "metadata": {},
   "outputs": [],
   "source": [
    "borough_111_vs_not_111['per_111_responses'] = borough_111_vs_not_111['num_111_responses'] / borough_111_vs_not_111['num_111_responses'].sum() * 100\n",
    "borough_111_vs_not_111['per_not_111_responses'] = borough_111_vs_not_111['num_not_111_responses'] / borough_111_vs_not_111['num_not_111_responses'].sum() * 100\n",
    "\n",
    "borough_111_vs_not_111['per_abs_difference'] = (borough_111_vs_not_111['per_111_responses'] - borough_111_vs_not_111['per_not_111_responses']).abs()"
   ]
  },
  {
   "cell_type": "code",
   "execution_count": null,
   "metadata": {},
   "outputs": [],
   "source": [
    "borough_111_vs_not_111.to_csv(\"outputs/percentage_diff_111_vs_not_111_by_borough.csv\")"
   ]
  },
  {
   "cell_type": "code",
   "execution_count": null,
   "metadata": {},
   "outputs": [],
   "source": [
    "borough_111_vs_not_111"
   ]
  },
  {
   "cell_type": "markdown",
   "metadata": {},
   "source": [
    "### Gender"
   ]
  },
  {
   "cell_type": "code",
   "execution_count": null,
   "metadata": {},
   "outputs": [],
   "source": [
    "num_responses_111_per_gender = all_responses_111.groupby('sex').count()[['incidentid']].rename(columns={'incidentid':'num_111_responses'})\n",
    "num_responses_not_111_per_gender = all_responses_not_111.groupby('sex').count()[['incidentid']].rename(columns={'incidentid':'num_not_111_responses'})"
   ]
  },
  {
   "cell_type": "code",
   "execution_count": null,
   "metadata": {},
   "outputs": [],
   "source": [
    "gender_111_vs_not_111 = pd.concat([num_responses_111_per_gender,num_responses_not_111_per_gender], axis=1)"
   ]
  },
  {
   "cell_type": "code",
   "execution_count": null,
   "metadata": {},
   "outputs": [],
   "source": [
    "gender_111_vs_not_111"
   ]
  },
  {
   "cell_type": "markdown",
   "metadata": {},
   "source": [
    "Chi-squared test"
   ]
  },
  {
   "cell_type": "code",
   "execution_count": null,
   "metadata": {},
   "outputs": [],
   "source": [
    "chi2, p, dof, ex = chi2_contingency(gender_111_vs_not_111)"
   ]
  },
  {
   "cell_type": "code",
   "execution_count": null,
   "metadata": {},
   "outputs": [],
   "source": [
    "expected_df = pd.DataFrame(ex)\n",
    "gender_expected_data = {'num_111_responses': expected_df.iloc[:,0], 'num_not_111_responses': expected_df.iloc[:,1]}\n",
    "gender_111_vs_not_111_expected = pd.DataFrame(data = gender_expected_data)\n",
    "gender_111_vs_not_111_expected.index = gender_111_vs_not_111.index"
   ]
  },
  {
   "cell_type": "code",
   "execution_count": null,
   "metadata": {},
   "outputs": [],
   "source": [
    "gender_111_vs_not_111_expected = gender_111_vs_not_111_expected.astype(int)"
   ]
  },
  {
   "cell_type": "code",
   "execution_count": null,
   "metadata": {},
   "outputs": [],
   "source": [
    "gender_111_vs_not_111_expected"
   ]
  },
  {
   "cell_type": "markdown",
   "metadata": {},
   "source": [
    "### Age"
   ]
  },
  {
   "cell_type": "code",
   "execution_count": null,
   "metadata": {},
   "outputs": [],
   "source": [
    "# no NAs can be passed to this function -- TODO: check age is a valid number\n",
    "def calculate_age_range(age):\n",
    "    if (age <= 15):\n",
    "        return '0-15'\n",
    "    elif (age > 15 and age <= 29):\n",
    "        return '16-29'\n",
    "    elif (age > 29 and age <= 44):\n",
    "        return '30-44'\n",
    "    elif (age > 44 and age <= 64):\n",
    "        return '45-64'\n",
    "    elif (age > 64 and age <= 84):\n",
    "        return '65-84'\n",
    "    else:\n",
    "        return '85+'"
   ]
  },
  {
   "cell_type": "code",
   "execution_count": null,
   "metadata": {},
   "outputs": [],
   "source": [
    "# remove all null ages\n",
    "all_responses_111_age = all_responses_111.dropna(subset=['age'])\n",
    "all_responses_not_111_age = all_responses_not_111.dropna(subset=['age'])"
   ]
  },
  {
   "cell_type": "code",
   "execution_count": null,
   "metadata": {},
   "outputs": [],
   "source": [
    "all_responses_111_age.shape"
   ]
  },
  {
   "cell_type": "code",
   "execution_count": null,
   "metadata": {},
   "outputs": [],
   "source": [
    "all_responses_not_111_age.shape"
   ]
  },
  {
   "cell_type": "code",
   "execution_count": null,
   "metadata": {},
   "outputs": [],
   "source": [
    "all_responses_111_age['age_range'] = all_responses_111_age['age'].apply(lambda x: calculate_age_range(x))\n",
    "all_responses_not_111_age['age_range'] = all_responses_not_111_age['age'].apply(lambda x: calculate_age_range(x))"
   ]
  },
  {
   "cell_type": "code",
   "execution_count": null,
   "metadata": {},
   "outputs": [],
   "source": [
    "num_responses_111_per_age_range = all_responses_111_age.groupby('age_range').count()[['incidentid']].rename(columns={'incidentid':'num_111_responses'})\n",
    "num_responses_not_111_per_age_range = all_responses_not_111_age.groupby('age_range').count()[['incidentid']].rename(columns={'incidentid':'num_not_111_responses'})"
   ]
  },
  {
   "cell_type": "code",
   "execution_count": null,
   "metadata": {},
   "outputs": [],
   "source": [
    "age_111_vs_not_111 = pd.concat([num_responses_111_per_age_range,num_responses_not_111_per_age_range], axis=1)"
   ]
  },
  {
   "cell_type": "code",
   "execution_count": null,
   "metadata": {},
   "outputs": [],
   "source": [
    "age_111_vs_not_111"
   ]
  },
  {
   "cell_type": "markdown",
   "metadata": {},
   "source": [
    "Chi-squared test"
   ]
  },
  {
   "cell_type": "code",
   "execution_count": null,
   "metadata": {},
   "outputs": [],
   "source": [
    "chi2, p, dof, ex = chi2_contingency(age_111_vs_not_111)"
   ]
  },
  {
   "cell_type": "code",
   "execution_count": null,
   "metadata": {},
   "outputs": [],
   "source": [
    "expected_df = pd.DataFrame(ex)\n",
    "age_expected_data = {'num_111_responses': expected_df.iloc[:,0], 'num_not_111_responses': expected_df.iloc[:,1]}\n",
    "age_111_vs_not_111_expected = pd.DataFrame(data = age_expected_data)\n",
    "age_111_vs_not_111_expected.index = age_111_vs_not_111.index\n",
    "age_111_vs_not_111_expected = age_111_vs_not_111_expected.astype(int)"
   ]
  },
  {
   "cell_type": "code",
   "execution_count": null,
   "metadata": {},
   "outputs": [],
   "source": [
    "age_111_vs_not_111_expected"
   ]
  },
  {
   "cell_type": "markdown",
   "metadata": {},
   "source": [
    "-----"
   ]
  },
  {
   "cell_type": "markdown",
   "metadata": {},
   "source": [
    "## Ward Outliers per Day\n",
    "Were there any wards that had outstanding incidents on a particular day?"
   ]
  },
  {
   "cell_type": "code",
   "execution_count": null,
   "metadata": {},
   "outputs": [],
   "source": [
    "all_responses = jan_feb_responses.append([mar_apr_responses, may_jun_responses, jul_aug_responses, sep_oct_responses, nov_dec_responses])"
   ]
  },
  {
   "cell_type": "code",
   "execution_count": null,
   "metadata": {},
   "outputs": [],
   "source": [
    "all_responses.shape"
   ]
  },
  {
   "cell_type": "code",
   "execution_count": null,
   "metadata": {},
   "outputs": [],
   "source": [
    "# get only 2018 data\n",
    "all_responses = all_responses[(all_responses['callstart'] > '2017-12-31') & (all_responses['callstart'] < '2019-01-01')]"
   ]
  },
  {
   "cell_type": "code",
   "execution_count": null,
   "metadata": {},
   "outputs": [],
   "source": [
    "all_responses.shape"
   ]
  },
  {
   "cell_type": "code",
   "execution_count": null,
   "metadata": {},
   "outputs": [],
   "source": [
    "all_responses['day_of_year'] = pd.to_datetime(all_responses['callstart']).dt.dayofyear"
   ]
  },
  {
   "cell_type": "code",
   "execution_count": null,
   "metadata": {},
   "outputs": [],
   "source": [
    "responses_by_ward_and_day = all_responses.groupby(['wardID','day_of_year']).count()[['incidentid']].reset_index().rename(columns={'incidentid':'num_incidents'})"
   ]
  },
  {
   "cell_type": "code",
   "execution_count": null,
   "metadata": {},
   "outputs": [],
   "source": [
    "subset_days = responses_by_ward_and_day[responses_by_ward_and_day['day_of_year'] == 26]"
   ]
  },
  {
   "cell_type": "code",
   "execution_count": null,
   "metadata": {},
   "outputs": [],
   "source": [
    "subset_days.boxplot(column='num_incidents', grid=False)\n",
    "plt.title(\"Distribution of incidents in wards on January 26\")"
   ]
  },
  {
   "cell_type": "code",
   "execution_count": null,
   "metadata": {},
   "outputs": [],
   "source": [
    "group_by_day_of_year = responses_by_ward_and_day.groupby('day_of_year')"
   ]
  },
  {
   "cell_type": "code",
   "execution_count": null,
   "metadata": {},
   "outputs": [],
   "source": [
    "stats_incidents_per_day_all_wards = group_by_day_of_year['num_incidents'].describe().reset_index()"
   ]
  },
  {
   "cell_type": "code",
   "execution_count": null,
   "metadata": {},
   "outputs": [],
   "source": [
    "stats_incidents_per_day_all_wards['IQR'] = stats_incidents_per_day_all_wards['75%'] - stats_incidents_per_day_all_wards['25%']\n",
    "# apply Tukey fences\n",
    "stats_incidents_per_day_all_wards['outlier_upper_limit'] = stats_incidents_per_day_all_wards['75%'] + 1.5 * stats_incidents_per_day_all_wards['IQR']"
   ]
  },
  {
   "cell_type": "code",
   "execution_count": null,
   "metadata": {},
   "outputs": [],
   "source": [
    "outliers_per_ward = {}\n",
    "data_outliers_per_day = []\n",
    "\n",
    "for day in range(1,366):\n",
    "    outlier_upper_limit = stats_incidents_per_day_all_wards[stats_incidents_per_day_all_wards['day_of_year'] == day].iloc[0]['outlier_upper_limit']\n",
    "    outlier_wards = responses_by_ward_and_day[(responses_by_ward_and_day['day_of_year'] == day) & (responses_by_ward_and_day['num_incidents'] > outlier_upper_limit)]['wardID']\n",
    "    \n",
    "    for outlier_ward in outlier_wards:\n",
    "        if outlier_ward in outliers_per_ward:\n",
    "            outliers_per_ward[outlier_ward] += 1 \n",
    "        else:\n",
    "            outliers_per_ward[outlier_ward] = 1\n",
    "        \n",
    "        data_outliers_per_day.append([day,outlier_ward,True])\n",
    "\n",
    "data_outliers_per_ward = []\n",
    "for ward in outliers_per_ward:\n",
    "    num_outliers = outliers_per_ward[ward]\n",
    "    \n",
    "    data_outliers_per_ward.append([ward,num_outliers])"
   ]
  },
  {
   "cell_type": "code",
   "execution_count": null,
   "metadata": {},
   "outputs": [],
   "source": [
    "outliers_per_ward = pd.DataFrame(data=data_outliers_per_ward, columns=['wardID','num_days_as_outlier'])\n",
    "outliers_per_ward.head()"
   ]
  },
  {
   "cell_type": "code",
   "execution_count": null,
   "metadata": {},
   "outputs": [],
   "source": [
    "outliers_per_day = pd.DataFrame(data=data_outliers_per_day, columns=['day_of_year','wardID','is_outlier'])\n",
    "outliers_per_day.shape"
   ]
  },
  {
   "cell_type": "code",
   "execution_count": null,
   "metadata": {},
   "outputs": [],
   "source": [
    "outliers_per_day.head()"
   ]
  },
  {
   "cell_type": "code",
   "execution_count": null,
   "metadata": {},
   "outputs": [],
   "source": [
    "outliers_per_ward.sort_values(by=['num_days_as_outlier'], ascending=False).head()"
   ]
  },
  {
   "cell_type": "markdown",
   "metadata": {},
   "source": [
    "### Create daily london plots showing the day's outlier wards"
   ]
  },
  {
   "cell_type": "code",
   "execution_count": null,
   "metadata": {},
   "outputs": [],
   "source": [
    "london_wards = gpd.read_file(\"data/statistical-gis-boundaries-london-2011/ESRI/London_Ward_CityMerged.shp\")"
   ]
  },
  {
   "cell_type": "code",
   "execution_count": null,
   "metadata": {},
   "outputs": [],
   "source": [
    "%matplotlib inline\n",
    "london_wards_plot = london_wards.plot()\n",
    "london_wards_plot.set_axis_off()"
   ]
  },
  {
   "cell_type": "code",
   "execution_count": null,
   "metadata": {},
   "outputs": [],
   "source": [
    "london_wards_profiles = pd.read_csv(\"data/ward-profiles-excel-version.csv\", header=None)"
   ]
  },
  {
   "cell_type": "code",
   "execution_count": null,
   "metadata": {},
   "outputs": [],
   "source": [
    "london_wards_profiles.head()"
   ]
  },
  {
   "cell_type": "code",
   "execution_count": null,
   "metadata": {},
   "outputs": [],
   "source": [
    "london_wards_profiles = london_wards_profiles.iloc[:,[0,1,2]]"
   ]
  },
  {
   "cell_type": "code",
   "execution_count": null,
   "metadata": {},
   "outputs": [],
   "source": [
    "london_wards_profiles.columns = ['ward_name','wardID','GSS_CODE']"
   ]
  },
  {
   "cell_type": "code",
   "execution_count": null,
   "metadata": {},
   "outputs": [],
   "source": [
    "london_wards_profiles.head()"
   ]
  },
  {
   "cell_type": "code",
   "execution_count": null,
   "metadata": {},
   "outputs": [],
   "source": [
    "london_wards_with_old_code = pd.merge(london_wards, london_wards_profiles[['wardID','GSS_CODE']], on=['GSS_CODE'], how='left')"
   ]
  },
  {
   "cell_type": "code",
   "execution_count": null,
   "metadata": {},
   "outputs": [],
   "source": [
    "london_wards_with_incident_outliers = pd.merge(london_wards_with_old_code, outliers_per_ward, on=['wardID'], how='left')"
   ]
  },
  {
   "cell_type": "code",
   "execution_count": null,
   "metadata": {},
   "outputs": [],
   "source": [
    "london_wards_with_incident_outliers = london_wards_with_incident_outliers.fillna(0)"
   ]
  },
  {
   "cell_type": "code",
   "execution_count": null,
   "metadata": {},
   "outputs": [],
   "source": [
    "london_wards_with_incident_outliers.to_file(\"outputs/london_wards_with_incident_outliers.shp\")"
   ]
  },
  {
   "cell_type": "code",
   "execution_count": null,
   "metadata": {},
   "outputs": [],
   "source": [
    "london_wards_with_old_code.head()"
   ]
  },
  {
   "cell_type": "code",
   "execution_count": null,
   "metadata": {},
   "outputs": [],
   "source": [
    "london_wards_with_old_code[['geometry','wardID']].head()"
   ]
  },
  {
   "cell_type": "code",
   "execution_count": null,
   "metadata": {},
   "outputs": [],
   "source": [
    "data_days_wards = []\n",
    "for day in range(1,366):\n",
    "    for ward in london_wards_with_old_code['wardID']:\n",
    "        data_days_wards.append([day,ward])\n",
    "        \n",
    "days_vs_wards = pd.DataFrame(data=data_days_wards, columns=['day_of_year','wardID'])\n"
   ]
  },
  {
   "cell_type": "code",
   "execution_count": null,
   "metadata": {},
   "outputs": [],
   "source": [
    "days_vs_wards.head()"
   ]
  },
  {
   "cell_type": "code",
   "execution_count": null,
   "metadata": {},
   "outputs": [],
   "source": [
    "merge_days_vs_wards_outliers = pd.merge(days_vs_wards, outliers_per_day, on=['day_of_year','wardID'],how='left')"
   ]
  },
  {
   "cell_type": "code",
   "execution_count": null,
   "metadata": {},
   "outputs": [],
   "source": [
    "merge_days_vs_wards_outliers = merge_days_vs_wards_outliers.fillna(False)\n",
    "merge_days_vs_wards_outliers.head()"
   ]
  },
  {
   "cell_type": "code",
   "execution_count": null,
   "metadata": {},
   "outputs": [],
   "source": [
    "merge_days_vs_wards_outliers.head()['date'] = pd.to_datetime(2018 * 1000 + merge_days_vs_wards_outliers['day_of_year'], format='%Y%j').dt.date\n",
    "merge_days_vs_wards_outliers.head()"
   ]
  },
  {
   "cell_type": "code",
   "execution_count": null,
   "metadata": {},
   "outputs": [],
   "source": [
    "# Create a plot for each day of the year showing the outliers for that day\n",
    "for day in range(1,366) :\n",
    "    day_pattern = merge_days_vs_wards_outliers[merge_days_vs_wards_outliers['day_of_year'] == day]\n",
    "    merge_day_pattern_and_geometry = pd.merge(day_pattern,london_wards_with_old_code[['geometry','wardID']], on='wardID',how='left')\n",
    "    merge_day_pattern_and_geometry = gpd.GeoDataFrame(merge_day_pattern_and_geometry)\n",
    "\n",
    "    image_title = datetime.strftime(datetime.strptime(str(merge_day_pattern_and_geometry['date'].iloc[0]), \"%Y-%m-%d\"),\"%d %B %Y\")\n",
    "    image_file_path = \"outputs/outliers_per_day/day_\" + str(day) + \".png\"\n",
    "    \n",
    "    fig, ax = plt.subplots(1)\n",
    "    merge_day_pattern_and_geometry.plot(column='is_outlier', ax=ax)\n",
    "    ax.axis('off')\n",
    "    fig.suptitle(image_title)\n",
    "    plt.savefig(image_file_path)\n",
    "    plt.close(fig)\n",
    "    "
   ]
  }
 ],
 "metadata": {
  "kernelspec": {
   "display_name": "Python 2",
   "language": "python",
   "name": "python2"
  },
  "language_info": {
   "codemirror_mode": {
    "name": "ipython",
    "version": 2
   },
   "file_extension": ".py",
   "mimetype": "text/x-python",
   "name": "python",
   "nbconvert_exporter": "python",
   "pygments_lexer": "ipython2",
   "version": "2.7.12"
  }
 },
 "nbformat": 4,
 "nbformat_minor": 2
}
