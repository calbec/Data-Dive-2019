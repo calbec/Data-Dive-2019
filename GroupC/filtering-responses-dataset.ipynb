{
 "cells": [
  {
   "cell_type": "code",
   "execution_count": null,
   "metadata": {},
   "outputs": [],
   "source": [
    "import numpy as np\n",
    "import pandas as pd\n",
    "import os\n",
    "import matplotlib as plt\n",
    "import scipy as sp\n",
    "%matplotlib inline\n",
    "from scipy import stats\n",
    "import datetime\n",
    "from datetime import timedelta"
   ]
  },
  {
   "cell_type": "code",
   "execution_count": null,
   "metadata": {},
   "outputs": [],
   "source": [
    "responses1 = pd.read_csv('data/Responses/responsesP1(Jan-Feb).csv')\n",
    "responses2 = pd.read_csv('data/Responses/responsesP2(Mar-Apr).csv')\n",
    "responses3 = pd.read_csv('data/Responses/responsesP3(May-Jun).csv')\n",
    "responses4 = pd.read_csv('data/Responses/responsesP4(Jul-Aug).csv')\n",
    "responses5 = pd.read_csv('data/Responses/responsesP5(Sep-Oct).csv')\n",
    "responses6 = pd.read_csv('data/Responses/responsesP6(Nov-Dec).csv')\n",
    "\n",
    "responses1.head()"
   ]
  },
  {
   "cell_type": "code",
   "execution_count": null,
   "metadata": {},
   "outputs": [],
   "source": [
    "incidents1 = pd.read_csv('data/Incidents/incidentsQ1.csv')\n",
    "incidents2 = pd.read_csv('data/Incidents/incidentsQ2.csv')\n",
    "incidents3 = pd.read_csv('data/Incidents/incidentsQ3.csv')\n",
    "incidents4 = pd.read_csv('data/Incidents/incidentsQ4.csv')"
   ]
  },
  {
   "cell_type": "code",
   "execution_count": null,
   "metadata": {},
   "outputs": [],
   "source": [
    "incidents = pd.DataFrame()\n",
    "incidents = incidents.append(incidents1).append(incidents2).append(incidents3).append(incidents4)"
   ]
  },
  {
   "cell_type": "code",
   "execution_count": null,
   "metadata": {},
   "outputs": [],
   "source": [
    "responses = pd.DataFrame()\n",
    "responses = responses.append(responses1).append(responses2).append(responses3).append(responses4).append(responses5).append(responses6)"
   ]
  },
  {
   "cell_type": "code",
   "execution_count": null,
   "metadata": {},
   "outputs": [],
   "source": [
    "responses.shape"
   ]
  },
  {
   "cell_type": "code",
   "execution_count": null,
   "metadata": {},
   "outputs": [],
   "source": [
    "# If \"arrived at scene\" is null, that means the initial dispatch assignment \n",
    "# was cancelled and another vehicle was assigned - should drop (~570k)\n",
    "responses.dropna(subset = ['arrivedatscene'],inplace=True)\n",
    "responses.shape"
   ]
  },
  {
   "cell_type": "code",
   "execution_count": null,
   "metadata": {},
   "outputs": [],
   "source": [
    "#sanity check - this combination should return no results\n",
    "responses[responses['arrivedathospital'].isnull() & responses['tohospital'].notnull()]"
   ]
  },
  {
   "cell_type": "code",
   "execution_count": null,
   "metadata": {},
   "outputs": [],
   "source": [
    "responses[responses['callsignkey']==22407].sort_values(['dispatch'])"
   ]
  },
  {
   "cell_type": "code",
   "execution_count": null,
   "metadata": {},
   "outputs": [],
   "source": [
    "vehicleIDs = responses.callsignkey.unique()\n",
    "df = pd.DataFrame()\n",
    "df = df.append(responses[responses['callsignkey']==22344].sort_values(['dispatch']))"
   ]
  },
  {
   "cell_type": "code",
   "execution_count": null,
   "metadata": {},
   "outputs": [],
   "source": [
    "#calculate idle time between greentime and next dispatch\n",
    "df = responses[responses['callsignkey']==19621].sort_values(['dispatch'])\n",
    "df[[\"callstart\", \"dispatch\", \"arrivedatscene\", \"leftscene\",\"arrivedathospital\",\"greentime\"]\n",
    "  ] = df[[\"callstart\", \"dispatch\", \"arrivedatscene\",\"leftscene\",\n",
    "                        \"arrivedathospital\",\"greentime\"]].apply(pd.to_datetime)\n",
    "df['idleTime'] = df['dispatch'] - df['greentime'].shift(1)\n",
    "df.head(50)"
   ]
  },
  {
   "cell_type": "code",
   "execution_count": null,
   "metadata": {},
   "outputs": [],
   "source": [
    "df.shape"
   ]
  },
  {
   "cell_type": "code",
   "execution_count": null,
   "metadata": {},
   "outputs": [],
   "source": [
    "#calculate idle time between greentime and next dispatch\n",
    "\n",
    "vehicleIDs = responses.callsignkey.unique()\n",
    "df = pd.DataFrame()\n",
    "\n",
    "for key in vehicleIDs:\n",
    "    #print(key)\n",
    "    df_temp = responses[responses['callsignkey']==key].sort_values(['dispatch'])\n",
    "    df_temp[[\"callstart\", \"dispatch\", \"arrivedatscene\", \"leftscene\",\"arrivedathospital\",\n",
    "             \"greentime\"]] = df_temp[[\"callstart\", \"dispatch\", \"arrivedatscene\",\"leftscene\",\n",
    "                                 \"arrivedathospital\",\"greentime\"]].apply(pd.to_datetime)\n",
    "    df_temp['idleTime'] = df_temp['dispatch'] - df_temp['greentime'].shift(1)\n",
    "    df = df.append(df_temp)\n",
    "    \n",
    "df.shape"
   ]
  },
  {
   "cell_type": "code",
   "execution_count": null,
   "metadata": {},
   "outputs": [],
   "source": [
    "df.to_csv('responsesWithIdleTime.csv')"
   ]
  },
  {
   "cell_type": "code",
   "execution_count": null,
   "metadata": {},
   "outputs": [],
   "source": [
    "df.head()"
   ]
  },
  {
   "cell_type": "code",
   "execution_count": null,
   "metadata": {},
   "outputs": [],
   "source": [
    "#filter shift changes\n",
    "df_regHours = df[df['callstart'].dt.hour>5]\n",
    "\n",
    "a = datetime.timedelta(hours=10)\n",
    "df_regHours = df[df['idleTime']<a]"
   ]
  },
  {
   "cell_type": "code",
   "execution_count": null,
   "metadata": {},
   "outputs": [],
   "source": [
    "df_regHours['idleTime'].median()"
   ]
  },
  {
   "cell_type": "code",
   "execution_count": null,
   "metadata": {},
   "outputs": [],
   "source": [
    "(df_regHours['idleTime'] / pd.Timedelta(minutes=1)).plot.hist(bins=1000, xlim=(-5,10))"
   ]
  },
  {
   "cell_type": "code",
   "execution_count": null,
   "metadata": {},
   "outputs": [],
   "source": [
    "responses[responses['callsignkey']==22344]"
   ]
  },
  {
   "cell_type": "code",
   "execution_count": null,
   "metadata": {},
   "outputs": [],
   "source": [
    "incidents['incidentid'].nunique()"
   ]
  },
  {
   "cell_type": "code",
   "execution_count": null,
   "metadata": {},
   "outputs": [],
   "source": [
    "responses['incidentid'].nunique()"
   ]
  },
  {
   "cell_type": "code",
   "execution_count": null,
   "metadata": {},
   "outputs": [],
   "source": [
    "ccgCount = responses.groupby('ccgcluster')\n",
    "incidentCountsCCG = ccgCount.count()['incidentid'].sort_values(ascending=False)\n",
    "incidentCountsCCG.to_csv('incidentCountsCCG.csv')\n",
    "\n",
    "boroughCount = responses.groupby('borough')\n",
    "incidentCountsBorough = boroughCount.count()['incidentid'].sort_values(ascending=False)\n",
    "incidentCountsBorough.to_csv('incidentCountsBorough.csv')\n",
    "\n",
    "wardCount = responses.groupby('wardID','wardname')\n",
    "incidentCountsWard = wardCount.count()['incidentid'].sort_values(ascending=False)\n",
    "incidentCountsWard.to_csv('incidentCountsWard.csv')\n",
    "\n",
    "lsoaCount = responses.groupby('lsoa')\n",
    "incidentCountsLSOA = lsoaCount.count()['incidentid'].sort_values(ascending=False)\n",
    "incidentCountsLSOA.to_csv('incidentCountsLSOA.csv')"
   ]
  },
  {
   "cell_type": "code",
   "execution_count": null,
   "metadata": {},
   "outputs": [],
   "source": [
    "incidentCountsCCG"
   ]
  },
  {
   "cell_type": "code",
   "execution_count": null,
   "metadata": {},
   "outputs": [],
   "source": [
    "incidentCountsBorough"
   ]
  },
  {
   "cell_type": "code",
   "execution_count": null,
   "metadata": {},
   "outputs": [],
   "source": [
    "incidentCountsLSOA = lsoaCount.count()['incidentid'].sort_values(ascending=False)"
   ]
  },
  {
   "cell_type": "code",
   "execution_count": null,
   "metadata": {},
   "outputs": [],
   "source": [
    "lsoaCount.mean()['response']"
   ]
  },
  {
   "cell_type": "code",
   "execution_count": null,
   "metadata": {},
   "outputs": [],
   "source": [
    "wardCount = responses.groupby(['wardID','wardname'])\n",
    "incidentCountsWard = wardCount.count()['incidentid']\n"
   ]
  },
  {
   "cell_type": "code",
   "execution_count": null,
   "metadata": {},
   "outputs": [],
   "source": [
    "incidentCountsWard.sort_values(ascending=False)"
   ]
  },
  {
   "cell_type": "code",
   "execution_count": null,
   "metadata": {},
   "outputs": [],
   "source": [
    "wardCount = responses.groupby(['wardID','wardname'])\n",
    "incidentCountsWard = wardCount.count()['incidentid'].sort_values(ascending=False)\n",
    "incidentCountsWard.to_csv('incidentCountsWard.csv')"
   ]
  },
  {
   "cell_type": "code",
   "execution_count": null,
   "metadata": {},
   "outputs": [],
   "source": [
    "incidentCountsWard.to_csv('incidentCountsWard.csv')"
   ]
  },
  {
   "cell_type": "markdown",
   "metadata": {},
   "source": [
    "## Proportion of activation/mobilisation/running time of total response time"
   ]
  },
  {
   "cell_type": "code",
   "execution_count": null,
   "metadata": {},
   "outputs": [],
   "source": [
    "listVars = ['response','activation', 'mobilisation','running']\n",
    "responses[responses['dohcategory'].isin(['C1 ', 'C2 '])][listVars].describe()"
   ]
  },
  {
   "cell_type": "code",
   "execution_count": null,
   "metadata": {},
   "outputs": [],
   "source": [
    "# average means for <75% percentile \n",
    "responses[(responses['response']<1224) & (responses['dohcategory'].isin(['C1 ', 'C2 ']))][listVars].describe()"
   ]
  },
  {
   "cell_type": "code",
   "execution_count": null,
   "metadata": {},
   "outputs": [],
   "source": [
    "responses[(responses['response']>=1224) & (responses['dohcategory'].isin(['C1 ', 'C2 ']))][listVars].describe()"
   ]
  },
  {
   "cell_type": "code",
   "execution_count": null,
   "metadata": {},
   "outputs": [],
   "source": [
    "df['callstart'].dt.hour.plot"
   ]
  },
  {
   "cell_type": "code",
   "execution_count": null,
   "metadata": {},
   "outputs": [],
   "source": [
    "df['callHour'] = df['callstart'].dt.hour\n",
    "df.head()"
   ]
  },
  {
   "cell_type": "code",
   "execution_count": null,
   "metadata": {},
   "outputs": [],
   "source": [
    "responsesGroupedbyHour = df.groupby('callHour')\n",
    "avgResponseTimebyHour = df.groupby('callHour').mean()['response']"
   ]
  },
  {
   "cell_type": "code",
   "execution_count": null,
   "metadata": {},
   "outputs": [],
   "source": [
    "responseCountbyHour = responsesGroupedbyHour.count()['response']"
   ]
  },
  {
   "cell_type": "code",
   "execution_count": null,
   "metadata": {},
   "outputs": [],
   "source": [
    "(avgResponseTimebyHour).plot()\n",
    "plt.pyplot.ylabel('Average Response Time (sec)')\n",
    "plt.pyplot.xlabel('Hour of Day')\n",
    "plt.pyplot.title('Average Response Time by Hour of Day')"
   ]
  },
  {
   "cell_type": "code",
   "execution_count": null,
   "metadata": {},
   "outputs": [],
   "source": [
    "(avgResponseTimebyHour*responseCountbyHour/sum(responseCountbyHour)).plot()\n",
    "plt.pyplot.ylabel('Weighted Average Response Time')\n",
    "plt.pyplot.xlabel('Hour of Day')\n",
    "plt.pyplot.title('Average Response Time by Hour of Day')"
   ]
  },
  {
   "cell_type": "code",
   "execution_count": null,
   "metadata": {},
   "outputs": [],
   "source": [
    "x = responses[(responses['wardID']==\"00BJGJ\")].sort_values(['lsoa'])"
   ]
  },
  {
   "cell_type": "code",
   "execution_count": null,
   "metadata": {},
   "outputs": [],
   "source": [
    "x[['lsoa','lat_activation','lon_activation','lat_incident','lon_incident']].drop_duplicates()"
   ]
  },
  {
   "cell_type": "code",
   "execution_count": null,
   "metadata": {},
   "outputs": [],
   "source": []
  }
 ],
 "metadata": {
  "kernelspec": {
   "display_name": "Python 3",
   "language": "python",
   "name": "python3"
  },
  "language_info": {
   "codemirror_mode": {
    "name": "ipython",
    "version": 3
   },
   "file_extension": ".py",
   "mimetype": "text/x-python",
   "name": "python",
   "nbconvert_exporter": "python",
   "pygments_lexer": "ipython3",
   "version": "3.6.7"
  }
 },
 "nbformat": 4,
 "nbformat_minor": 2
}
