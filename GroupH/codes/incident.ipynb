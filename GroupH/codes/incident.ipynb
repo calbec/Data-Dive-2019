{
 "cells": [
  {
   "cell_type": "markdown",
   "metadata": {},
   "source": [
    "# Exploratory analysis of the incidents temperal pattern"
   ]
  },
  {
   "cell_type": "code",
   "execution_count": null,
   "metadata": {},
   "outputs": [],
   "source": [
    "import pandas as pd\n",
    "import geopandas as gpd\n",
    "import numpy as np\n",
    "import matplotlib.pyplot as plt\n",
    "import sklearn\n",
    "plt.style.use('seaborn')\n",
    "%matplotlib inline\n",
    "pd.set_option('display.max_columns', 50)"
   ]
  },
  {
   "cell_type": "code",
   "execution_count": null,
   "metadata": {},
   "outputs": [],
   "source": [
    "q1 = pd.read_csv('data/Incidents/incidentsQ1.csv', index_col='callstart', infer_datetime_format=True, parse_dates=True)\n",
    "q2 = pd.read_csv('data/Incidents/incidentsQ2.csv', index_col='callstart', infer_datetime_format=True, parse_dates=True)\n",
    "q3 = pd.read_csv('data/Incidents/incidentsQ3.csv', index_col='callstart', infer_datetime_format=True, parse_dates=True)\n",
    "q4 = pd.read_csv('data/Incidents/incidentsQ4.csv', index_col='callstart', infer_datetime_format=True, parse_dates=True)"
   ]
  },
  {
   "cell_type": "code",
   "execution_count": null,
   "metadata": {},
   "outputs": [],
   "source": []
  },
  {
   "cell_type": "code",
   "execution_count": null,
   "metadata": {},
   "outputs": [],
   "source": []
  },
  {
   "cell_type": "code",
   "execution_count": null,
   "metadata": {},
   "outputs": [],
   "source": []
  },
  {
   "cell_type": "code",
   "execution_count": null,
   "metadata": {},
   "outputs": [],
   "source": [
    "incident_lsoa = year.groupby('lsoa')['incidentid'].count()"
   ]
  },
  {
   "cell_type": "code",
   "execution_count": null,
   "metadata": {},
   "outputs": [],
   "source": [
    "incident_lsoa.to_csv('incident_lsoa.csv')"
   ]
  },
  {
   "cell_type": "code",
   "execution_count": null,
   "metadata": {},
   "outputs": [],
   "source": []
  },
  {
   "cell_type": "code",
   "execution_count": null,
   "metadata": {},
   "outputs": [],
   "source": [
    "year = pd.concat([q1, q2, q3, q4], axis=0)\n",
    "year = year.applymap(lambda x: x.strip() if type(x)==str else x)"
   ]
  },
  {
   "cell_type": "code",
   "execution_count": null,
   "metadata": {},
   "outputs": [],
   "source": [
    "q3 = q3.applymap(lambda x: x.strip() if type(x)==str else x)"
   ]
  },
  {
   "cell_type": "code",
   "execution_count": null,
   "metadata": {},
   "outputs": [],
   "source": [
    "q3.columns"
   ]
  },
  {
   "cell_type": "code",
   "execution_count": null,
   "metadata": {},
   "outputs": [],
   "source": [
    "def plot_category(datafram, category='dohcategory', frequency='W'):\n",
    "    df = datafram\n",
    "    unique_ = df[category].unique()\n",
    "    dfs = []\n",
    "    plt.clf()\n",
    "    plt.figure(figsize=(20,10))\n",
    "    for c in unique_:\n",
    "        df_c = df[df[category] == c].resample(frequency)['incidentid'].count()\n",
    "        df_c.plot(label=str(c))\n",
    "    plt.legend()\n",
    "        "
   ]
  },
  {
   "cell_type": "code",
   "execution_count": null,
   "metadata": {},
   "outputs": [],
   "source": [
    "plot_category(year)"
   ]
  },
  {
   "cell_type": "code",
   "execution_count": null,
   "metadata": {},
   "outputs": [],
   "source": [
    "yW = year.resample('W')['incidentid'].count()"
   ]
  },
  {
   "cell_type": "code",
   "execution_count": null,
   "metadata": {},
   "outputs": [],
   "source": [
    "plt.clf()\n",
    "plt.figure(figsize=(20,5))\n",
    "yW.plot()\n",
    "xticks = pd.date_range(start=yW.index.values.min(), end=yW.index.values.max(), freq='W')\n",
    "#plt.xticks(xticks, xticks.strftime('%a %m-%d'), rotation=90)\n",
    "plt.ylim(bottom=20000)\n",
    "plt.hlines(y=yW.sum()/53, xmin=yW.index.values.min(), xmax=yW.index.values.max(), color='r', label='average(53W)')\n",
    "plt.legend()\n",
    "plt.plot()"
   ]
  },
  {
   "cell_type": "code",
   "execution_count": null,
   "metadata": {},
   "outputs": [],
   "source": []
  },
  {
   "cell_type": "code",
   "execution_count": null,
   "metadata": {},
   "outputs": [],
   "source": [
    "q1h3 = q1.resample('3H')['incidentid'].count()"
   ]
  },
  {
   "cell_type": "code",
   "execution_count": null,
   "metadata": {},
   "outputs": [],
   "source": [
    "plt.clf()\n",
    "plt.figure(figsize=(30,5))\n",
    "q1h3.plot()\n",
    "xticks = pd.date_range(start=q1h3.index.values.min(), end=q1h3.index.values.max(), freq='D')\n",
    "plt.xticks(xticks, xticks.strftime('%a %m-%d'), rotation=90)\n",
    "plt.show()"
   ]
  },
  {
   "cell_type": "code",
   "execution_count": null,
   "metadata": {},
   "outputs": [],
   "source": []
  },
  {
   "cell_type": "code",
   "execution_count": null,
   "metadata": {},
   "outputs": [],
   "source": [
    "q1gb = q1.groupby(q1.index.hour)['incidentid'].count()"
   ]
  },
  {
   "cell_type": "code",
   "execution_count": null,
   "metadata": {},
   "outputs": [],
   "source": [
    "plt.figure(figsize=(8,5))\n",
    "q1gb.plot(kind='bar')\n",
    "plt.title('Totoal Incidents Breakdown by Hours')\n",
    "plt.xlabel('Time of a Day')\n",
    "plt.ylabel('Frequency')"
   ]
  },
  {
   "cell_type": "code",
   "execution_count": null,
   "metadata": {},
   "outputs": [],
   "source": [
    "gb = q1.groupby([q1.index.hour, q1.dohcategory])['incidentid'].count()"
   ]
  },
  {
   "cell_type": "code",
   "execution_count": null,
   "metadata": {},
   "outputs": [],
   "source": [
    "fig, ax = plt.subplots(figsize=(16,10))\n",
    "gb.unstack().plot(ax=ax)\n",
    "plt.title('Aggregate Hourly Trend for C1-C5')\n",
    "plt.xlabel('Time of a Day')\n",
    "plt.ylabel('Frequency')"
   ]
  },
  {
   "cell_type": "code",
   "execution_count": null,
   "metadata": {},
   "outputs": [],
   "source": []
  },
  {
   "cell_type": "markdown",
   "metadata": {},
   "source": [
    "# Mean response time per lsoa per category"
   ]
  },
  {
   "cell_type": "code",
   "execution_count": null,
   "metadata": {},
   "outputs": [],
   "source": [
    "year.tail()"
   ]
  },
  {
   "cell_type": "code",
   "execution_count": null,
   "metadata": {},
   "outputs": [],
   "source": [
    "lsogb = year.groupby(['lsoa', 'dohcategory'])['response_aqi'].mean()"
   ]
  },
  {
   "cell_type": "code",
   "execution_count": null,
   "metadata": {},
   "outputs": [],
   "source": [
    "lsoa = gpd.read_file('ESRI/LSOA_2011_London_gen_MHW.shp')"
   ]
  },
  {
   "cell_type": "code",
   "execution_count": null,
   "metadata": {},
   "outputs": [],
   "source": [
    "year.columns"
   ]
  },
  {
   "cell_type": "code",
   "execution_count": null,
   "metadata": {},
   "outputs": [],
   "source": [
    "q3['response_aqi_min'] = q3['response_aqi'] / 60"
   ]
  },
  {
   "cell_type": "code",
   "execution_count": null,
   "metadata": {},
   "outputs": [],
   "source": [
    "def plot_mean_percentile(C='C1', mean_=7, percentile_=15):\n",
    "    #prepare dataframe, calculate stats, and geodataframize the dataset\n",
    "    year_C = year[year.dohcategory == C]\n",
    "    mean = year_C.groupby('lsoa')['response_aqi_min'].mean().reset_index().rename(columns={'response_aqi_min': \"mean_response\"})\n",
    "    percentile90 = year_C.groupby('lsoa')['response_aqi_min'].quantile(0.9).reset_index().rename(columns={'response_aqi_min': \"percentile90_response\"})\n",
    "    combined = pd.merge(mean, percentile90, on='lsoa')\n",
    "    geo_combined = combined.merge(lsoa, left_on='lsoa', right_on='LSOA11CD')[['lsoa', 'mean_response', 'percentile90_response','geometry']]\n",
    "    geo_combined = gpd.GeoDataFrame(geo_combined)\n",
    "    \n",
    "    #plot the mean_response\n",
    "    fig, ax = plt.subplots(1, 2, figsize=(25, 10))\n",
    "    geo_combined[geo_combined.mean_response > mean_].plot(column='mean_response', color='red', ax=ax[0], alpha=1)\n",
    "    geo_combined.plot(column='mean_response', cmap='summer', legend=False, ax=ax[0], alpha=0.5)\n",
    "    ax[0].set_axis_off()\n",
    "    ax[0].set_title(str(C) + ' Mean Response_aqi < ' + str(mean_) + ' mins per lsoa', fontsize=20)\n",
    "    \n",
    "    #plot the 90 percentile response\n",
    "    geo_combined[geo_combined.percentile90_response > percentile_].plot(column='percentile90_response', color='red', ax=ax[1], alpha=1)\n",
    "    geo_combined.plot(column='percentile90_response', cmap='summer', legend=False, ax=ax[1], alpha=0.5)\n",
    "    ax[1].set_axis_off()\n",
    "    ax[1].set_title(str(C) + ' 90 Percentile Response_aqi < ' + str(percentile_) + ' mins per lsoa', fontsize=20)\n",
    "    \n",
    "    print('The percentage of lsoa that ', C, ' Mean Response_aqi < ', mean_, ' mins is: ', (geo_combined[geo_combined.mean_response < mean_].count() / geo_combined.mean_response.count())[0])\n",
    "    print('The percentage of lsoa that ', C,' 90 Percentile Response_aqi < ', percentile_, ' mins is: ', \n",
    "          (geo_combined[geo_combined.percentile90_response < percentile_].count() / geo_combined.percentile90_response.count())[0])\n",
    "    "
   ]
  },
  {
   "cell_type": "code",
   "execution_count": null,
   "metadata": {},
   "outputs": [],
   "source": [
    "plot_mean_percentile('C1', 7, 15)"
   ]
  },
  {
   "cell_type": "code",
   "execution_count": null,
   "metadata": {},
   "outputs": [],
   "source": [
    "plot_mean_percentile('C2', 18, 40)"
   ]
  },
  {
   "cell_type": "code",
   "execution_count": null,
   "metadata": {},
   "outputs": [],
   "source": [
    "plot_mean_percentile('C3', 60, 120)"
   ]
  },
  {
   "cell_type": "code",
   "execution_count": null,
   "metadata": {},
   "outputs": [],
   "source": [
    "plot_mean_percentile('C4', 180, 180)"
   ]
  },
  {
   "cell_type": "code",
   "execution_count": null,
   "metadata": {},
   "outputs": [],
   "source": []
  },
  {
   "cell_type": "code",
   "execution_count": null,
   "metadata": {},
   "outputs": [],
   "source": []
  },
  {
   "cell_type": "code",
   "execution_count": null,
   "metadata": {},
   "outputs": [],
   "source": []
  },
  {
   "cell_type": "code",
   "execution_count": null,
   "metadata": {},
   "outputs": [],
   "source": [
    "year_c1 = year[year.dohcategory == 'C1']\n",
    "year_c1 = year_c1.groupby('lsoa')['response_aqi_min'].quantile(0.9).reset_index().merge(lsoa, left_on='lsoa', \n",
    "                                                                             right_on='LSOA11CD')[['lsoa', 'response_aqi_min', 'geometry']]\n",
    "year_c1 = gpd.GeoDataFrame(year_c1)\n",
    "fig, ax = plt.subplots(1, 2, figsize=(25, 10))\n",
    "\n",
    "year_c1[year_c1.response_aqi_min > 7].plot(column='response_aqi_min', color='red', ax=ax[0], alpha=1)\n",
    "year_c1.plot(column='response_aqi_min', cmap='summer', legend=True, ax=ax[0], alpha=0.5)\n",
    "ax[0].set_axis_off()\n",
    "ax[0].set_title('C1 avg Response_aqi < 7 mins per lsoa')\n",
    "\n",
    "year_c1[year_c1.response_aqi_min > 15].plot(column='response_aqi_min', color='red', ax=ax[1], alpha=1)\n",
    "year_c1.plot(column='response_aqi_min', cmap='summer', legend=False, ax=ax[1], alpha=0.5)\n",
    "ax[1].set_axis_off()\n",
    "ax[1].set_title('C1 avg Response_aqi < 15 mins per lsoa')"
   ]
  },
  {
   "cell_type": "code",
   "execution_count": null,
   "metadata": {},
   "outputs": [],
   "source": [
    "year_c2 = year[year.dohcategory == 'C2']\n",
    "year_c2 = year_c2.groupby('lsoa')['response_aqi_min'].mean().reset_index().merge(lsoa, left_on='lsoa', \n",
    "                                                                             right_on='LSOA11CD')[['lsoa', 'response_aqi_min', 'geometry']]\n",
    "year_c2 = gpd.GeoDataFrame(year_c2)\n",
    "fig, ax = plt.subplots(1, 2, figsize=(25, 10))\n",
    "\n",
    "year_c2[year_c2.response_aqi_min > 18].plot(column='response_aqi_min', color='red', ax=ax[0], alpha=1)\n",
    "year_c2.plot(column='response_aqi_min', cmap='summer', legend=True, ax=ax[0], alpha=0.5)\n",
    "ax[0].set_axis_off()\n",
    "ax[0].set_title('C2 avg Response_aqi < 18 mins per lsoa')\n",
    "\n",
    "year_c2[year_c2.response_aqi_min > 40].plot(column='response_aqi_min', color='red', ax=ax[1], alpha=1)\n",
    "year_c2.plot(column='response_aqi_min', cmap='summer', legend=False, ax=ax[1], alpha=0.5)\n",
    "ax[1].set_axis_off()\n",
    "ax[1].set_title('C2 avg Response_aqi < 40 mins per lsoa')"
   ]
  },
  {
   "cell_type": "code",
   "execution_count": null,
   "metadata": {},
   "outputs": [],
   "source": [
    "year_c3 = year[year.dohcategory == 'C3']\n",
    "year_c3 = year_c3.groupby('lsoa')['response_aqi_min'].mean().reset_index().merge(lsoa, left_on='lsoa', \n",
    "                                                                             right_on='LSOA11CD')[['lsoa', 'response_aqi_min', 'geometry']]\n",
    "year_c3 = gpd.GeoDataFrame(year_c3)\n",
    "fig, ax = plt.subplots(1, 2, figsize=(25, 10))\n",
    "\n",
    "year_c3[year_c3.response_aqi_min > 60].plot(column='response_aqi_min', color='red', ax=ax[0], alpha=1)\n",
    "year_c3.plot(column='response_aqi_min', cmap='summer', legend=True, ax=ax[0], alpha=0.5)\n",
    "ax[0].set_axis_off()\n",
    "ax[0].set_title('C3 avg Response_aqi < 60 mins per lsoa')\n",
    "\n",
    "year_c3[year_c3.response_aqi_min > 120].plot(column='response_aqi_min', color='red', ax=ax[1], alpha=1)\n",
    "year_c3.plot(column='response_aqi_min', cmap='summer', legend=False, ax=ax[1], alpha=0.5)\n",
    "ax[1].set_axis_off()\n",
    "ax[1].set_title('C3 avg Response_aqi < 120 mins per lsoa')"
   ]
  },
  {
   "cell_type": "code",
   "execution_count": null,
   "metadata": {},
   "outputs": [],
   "source": [
    "year_c4 = year[year.dohcategory == 'C4']\n",
    "year_c4 = year_c4.groupby('lsoa')['response_aqi_min'].mean().reset_index().merge(lsoa, left_on='lsoa', \n",
    "                                                                             right_on='LSOA11CD')[['lsoa', 'response_aqi_min', 'geometry']]\n",
    "year_c4 = gpd.GeoDataFrame(year_c4)\n",
    "fig, ax = plt.subplots(1, 1, figsize=(15, 8))\n",
    "year_c4[year_c4.response_aqi_min > 180].plot(column='response_aqi_min', color='red', ax=ax, alpha=1)\n",
    "year_c4.plot(column='response_aqi_min', cmap='summer', legend=True, ax=ax, alpha=0.5)\n",
    "ax.set_axis_off()\n",
    "ax.set_title('C4 avg Response_aqi < 180 mins per lsoa')"
   ]
  },
  {
   "cell_type": "code",
   "execution_count": null,
   "metadata": {},
   "outputs": [],
   "source": []
  }
 ],
 "metadata": {
  "kernelspec": {
   "display_name": "Python 3",
   "language": "python",
   "name": "python3"
  },
  "language_info": {
   "codemirror_mode": {
    "name": "ipython",
    "version": 3
   },
   "file_extension": ".py",
   "mimetype": "text/x-python",
   "name": "python",
   "nbconvert_exporter": "python",
   "pygments_lexer": "ipython3",
   "version": "3.6.8"
  }
 },
 "nbformat": 4,
 "nbformat_minor": 2
}
